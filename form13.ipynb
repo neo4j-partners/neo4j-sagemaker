{
 "cells": [
  {
   "cell_type": "markdown",
   "metadata": {
    "id": "4rQ6G65n6OxV"
   },
   "source": [
    "# Form 13\n",
    "This notebook describes how to use Neo4j and SageMaker together.  In it you connect to a Neo4j instance, load data and compute an embedding.  You then load that data into AWS S3.  Finally, you use SageMaker to train a model using the new embedding as an additional feature."
   ]
  },
  {
   "cell_type": "markdown",
   "metadata": {
    "id": "IdMFRbqGzSqF"
   },
   "source": [
    "## Deploy Neo4j\n",
    "You're going to need a Neo4j deployment to run this lab.  The easiest way to get that is via the [AWS Marketplace](https://aws.amazon.com/marketplace/seller-profile?id=23ec694a-d2af-4641-b4d3-b7201ab2f5f9).  Select \"Neo4j Enterprise Edition\" and deploy that.  Suggested parameters are:\n",
    "\n",
    "* Graph Database Version - 4.4.8\n",
    "* Install Graph Data Sceince - True\n",
    "* Graph Data Science License Key - None\n",
    "* Install Bloom - True\n",
    "* Bloom License Key - None\n",
    "* Password - Enter something here\n",
    "* Node Count - 1\n",
    "* Instance Type - t3.xlarge\n",
    "* Key Name - Pick a key you have\n",
    "* SSH CIDR - 0.0.0.0/0\n",
    "\n",
    "The Marketplace listing deploys an ASG.  When deployment is complete, you can get the IP address of your Neo4j node from that ASG.  You can view deployed ASGs [here](https://us-east-1.console.aws.amazon.com/ec2autoscaling)."
   ]
  },
  {
   "cell_type": "markdown",
   "metadata": {
    "id": "9MwTYwKk6OxX"
   },
   "source": [
    "## Using the Neo4j API\n",
    "Now that we have a Neo4j deployment, let's connect to Neo4j.  First off, install the Neo4j Graph Data Science package."
   ]
  },
  {
   "cell_type": "code",
   "execution_count": null,
   "metadata": {
    "id": "FT0KaLYj6OxX"
   },
   "outputs": [],
   "source": [
    "%pip install graphdatascience"
   ]
  },
  {
   "cell_type": "markdown",
   "metadata": {
    "id": "sFokFbiL6OxY"
   },
   "source": [
    "Now, you're going to need the connection string and credentials from the deployment you created above."
   ]
  },
  {
   "cell_type": "code",
   "execution_count": 2,
   "metadata": {
    "id": "P41l_P4zzSqF"
   },
   "outputs": [],
   "source": [
    "# Edit these variables!\n",
    "DB_URL = 'neo4j://ec2-3-91-14-235.compute-1.amazonaws.com:7687'\n",
    "DB_PASS = 'foo123'\n",
    "\n",
    "# You can leave this default\n",
    "DB_USER = 'neo4j'"
   ]
  },
  {
   "cell_type": "code",
   "execution_count": 3,
   "metadata": {
    "id": "8lUkSvmozSqF"
   },
   "outputs": [],
   "source": [
    "from graphdatascience import GraphDataScience\n",
    "gds = GraphDataScience(DB_URL, auth=(DB_USER, DB_PASS))"
   ]
  },
  {
   "cell_type": "markdown",
   "metadata": {
    "id": "_7-MlyTU6OxZ"
   },
   "source": [
    "## Load Data into Neo4j\n",
    "Now that we've got our connection object, let's load the dataset into Neo4j.\n",
    "\n",
    "The dataset is pulled from the SEC's EDGAR database. These are public filings of something called Form 13. Asset managers with over \\$100m AUM are required to submit Form 13 quarterly. That's then made available to the public over http. The csvs linked above were pulled from EDGAR using some python scripts. If you're curious, they're all available [here](https://github.com/neo4j-partners/neo4j-sec-edgar-form13). We've filtered the data to only include filings over \\$10m in value.\n",
    "\n",
    "We're going to create constratints for our data."
   ]
  },
  {
   "cell_type": "code",
   "execution_count": null,
   "metadata": {
    "id": "VxgUxjVQ6OxZ"
   },
   "outputs": [],
   "source": [
    "result = gds.run_cypher('CREATE CONSTRAINT IF NOT EXISTS ON (p:Company) ASSERT (p.cusip) IS NODE KEY;')\n",
    "display(result)\n",
    "\n",
    "result = gds.run_cypher('CREATE CONSTRAINT IF NOT EXISTS ON (p:Manager) ASSERT (p.filingManager) IS NODE KEY;')\n",
    "display(result)\n",
    "\n",
    "result = gds.run_cypher('CREATE CONSTRAINT IF NOT EXISTS ON (p:Holding) ASSERT (p.filingManager, p.cusip, p.reportCalendarOrQuarter) IS NODE KEY;')\n",
    "display(result)"
   ]
  },
  {
   "cell_type": "markdown",
   "metadata": {
    "id": "BdKOItse6Oxa"
   },
   "source": [
    "Now let's load the nodes."
   ]
  },
  {
   "cell_type": "code",
   "execution_count": null,
   "metadata": {
    "id": "JgCgdkCt6Oxa"
   },
   "outputs": [],
   "source": [
    "result = gds.run_cypher(\n",
    "    \"\"\"\n",
    "        LOAD CSV WITH HEADERS FROM 'https://storage.googleapis.com/neo4j-datasets/form13/2021.csv' AS row\n",
    "        MERGE (c:Company {cusip:row.cusip})\n",
    "        ON CREATE SET\n",
    "            c.nameOfIssuer=row.nameOfIssuer\n",
    "    \"\"\"\n",
    ")\n",
    "display(result)"
   ]
  },
  {
   "cell_type": "code",
   "execution_count": null,
   "metadata": {
    "id": "MqJZYNES6Oxa"
   },
   "outputs": [],
   "source": [
    "result = gds.run_cypher(\n",
    "    \"\"\"\n",
    "        LOAD CSV WITH HEADERS FROM 'https://storage.googleapis.com/neo4j-datasets/form13/2021.csv' AS row\n",
    "        MERGE (m:Manager {filingManager:row.filingManager})\n",
    "    \"\"\"\n",
    ")\n",
    "display(result)"
   ]
  },
  {
   "cell_type": "code",
   "execution_count": null,
   "metadata": {
    "id": "rERDJtCi6Oxa"
   },
   "outputs": [],
   "source": [
    "result = gds.run_cypher(\n",
    "    \"\"\"\n",
    "        LOAD CSV WITH HEADERS FROM 'https://storage.googleapis.com/neo4j-datasets/form13/2021.csv' AS row\n",
    "        MERGE (h:Holding {filingManager:row.filingManager, cusip:row.cusip, reportCalendarOrQuarter:row.reportCalendarOrQuarter})\n",
    "        ON CREATE SET\n",
    "            h.value=row.value, \n",
    "            h.shares=row.shares,\n",
    "            h.target=row.target,\n",
    "            h.nameOfIssuer=row.nameOfIssuer\n",
    "    \"\"\"\n",
    ")\n",
    "display(result)"
   ]
  },
  {
   "cell_type": "markdown",
   "metadata": {
    "id": "vzdC3x316Oxa"
   },
   "source": [
    "Now let's create relationships between those nodes."
   ]
  },
  {
   "cell_type": "code",
   "execution_count": null,
   "metadata": {
    "id": "rggD5Yho6Oxa"
   },
   "outputs": [],
   "source": [
    "result = gds.run_cypher(\n",
    "    \"\"\"\n",
    "        LOAD CSV WITH HEADERS FROM 'https://storage.googleapis.com/neo4j-datasets/form13/2021.csv' AS row\n",
    "        MATCH (m:Manager {filingManager:row.filingManager})\n",
    "        MATCH (h:Holding {filingManager:row.filingManager, cusip:row.cusip, reportCalendarOrQuarter:row.reportCalendarOrQuarter})\n",
    "        MERGE (m)-[r:OWNS]->(h)\n",
    "    \"\"\"\n",
    ")\n",
    "display(result)"
   ]
  },
  {
   "cell_type": "code",
   "execution_count": null,
   "metadata": {
    "id": "rpsRbdhe6Oxb"
   },
   "outputs": [],
   "source": [
    "result = gds.run_cypher(\n",
    "    \"\"\"\n",
    "        LOAD CSV WITH HEADERS FROM 'https://storage.googleapis.com/neo4j-datasets/form13/2021.csv' AS row\n",
    "        MATCH (h:Holding {filingManager:row.filingManager, cusip:row.cusip, reportCalendarOrQuarter:row.reportCalendarOrQuarter})\n",
    "        MATCH (c:Company {cusip:row.cusip})\n",
    "        MERGE (h)-[r:PARTOF]->(c)\n",
    "    \"\"\"\n",
    ")\n",
    "display(result)"
   ]
  },
  {
   "cell_type": "markdown",
   "metadata": {
    "id": "ZtJy4eO_zSqF"
   },
   "source": [
    "## Graph Data Science\n",
    "Now we're going to use Neo4j Graph Data Science to create an in memory graph represtation of the data.  We'll enhance that represation with features we engineer using a graph embedding."
   ]
  },
  {
   "cell_type": "code",
   "execution_count": null,
   "metadata": {
    "id": "x76ZEtR16Oxb"
   },
   "outputs": [],
   "source": [
    "result = gds.run_cypher(\n",
    "  \"\"\"\n",
    "    CALL gds.graph.create(\n",
    "      'mygraph',\n",
    "      ['Company', 'Manager', 'Holding'],\n",
    "      {\n",
    "          OWNS: {orientation: 'UNDIRECTED'},\n",
    "          PARTOF: {orientation: 'UNDIRECTED'}\n",
    "      }\n",
    "    )\n",
    "    YIELD\n",
    "      graphName AS graph,\n",
    "      relationshipProjection AS readProjection,\n",
    "      nodeCount AS nodes,\n",
    "      relationshipCount AS rels\n",
    "  \"\"\"\n",
    ")\n",
    "display(result)"
   ]
  },
  {
   "cell_type": "markdown",
   "metadata": {
    "id": "HiwL552u6Oxb"
   },
   "source": [
    "If you get an error saying the graph already exists, that's probably because you ran this code before. You can destroy it using this command:"
   ]
  },
  {
   "cell_type": "code",
   "execution_count": null,
   "metadata": {
    "id": "EPZIIIJc6Oxb"
   },
   "outputs": [],
   "source": [
    "result = gds.run_cypher(\n",
    "  \"\"\"\n",
    "    CALL gds.graph.drop('mygraph')\n",
    "  \"\"\"\n",
    ")\n",
    "display(result)"
   ]
  },
  {
   "cell_type": "markdown",
   "metadata": {
    "id": "zG1novOj6Oxb"
   },
   "source": [
    "Now, let's list the details of the graph to make sure the projection was created as we want."
   ]
  },
  {
   "cell_type": "code",
   "execution_count": null,
   "metadata": {
    "id": "yyaw5itE6Oxb"
   },
   "outputs": [],
   "source": [
    "result = gds.run_cypher(\n",
    "  \"\"\"\n",
    "    CALL gds.graph.list()\n",
    "  \"\"\"\n",
    ")\n",
    "display(result)"
   ]
  },
  {
   "cell_type": "markdown",
   "metadata": {
    "id": "XEQAChAa6Oxb"
   },
   "source": [
    "Now we can generate an embedding from that graph. This is a new feature we can use in our predictions. We're using FastRP, which is a more full featured and higher performance of Node2Vec. You can learn more about that [here](https://neo4j.com/docs/graph-data-science/current/algorithms/fastrp/).\n",
    "\n",
    "There are a bunch of parameters we could adjust in this.  One of the most obvious is the embeddingDimension.  The documentation covers many more."
   ]
  },
  {
   "cell_type": "code",
   "execution_count": null,
   "metadata": {
    "id": "qLFxuPb66Oxc"
   },
   "outputs": [],
   "source": [
    "result = gds.run_cypher(\n",
    "  \"\"\"\n",
    "  CALL gds.fastRP.mutate('mygraph',{\n",
    "    embeddingDimension: 16,\n",
    "    randomSeed: 1,\n",
    "    mutateProperty:'embedding'\n",
    "  })\n",
    "  \"\"\"\n",
    ")\n",
    "display(result)"
   ]
  },
  {
   "cell_type": "markdown",
   "metadata": {
    "id": "iRpgM-NV6Oxc"
   },
   "source": [
    "That creates an embedding for each node type.  However, we only want the embedding on the nodes of type holding.\n",
    "\n",
    "We're going to take the embedding from our projection and write it to the holding nodes in the underlying database."
   ]
  },
  {
   "cell_type": "code",
   "execution_count": null,
   "metadata": {
    "id": "3dBS16zD6Oxc"
   },
   "outputs": [],
   "source": [
    "result = gds.run_cypher(\n",
    "  \"\"\"\n",
    "    CALL gds.graph.writeNodeProperties('mygraph', ['embedding'], ['Holding'])\n",
    "    YIELD writeMillis\n",
    "  \"\"\"\n",
    ")\n",
    "display(result)"
   ]
  },
  {
   "cell_type": "code",
   "execution_count": 4,
   "metadata": {
    "id": "mK6LeBne6Oxc"
   },
   "outputs": [
    {
     "data": {
      "text/html": [
       "<div>\n",
       "<style scoped>\n",
       "    .dataframe tbody tr th:only-of-type {\n",
       "        vertical-align: middle;\n",
       "    }\n",
       "\n",
       "    .dataframe tbody tr th {\n",
       "        vertical-align: top;\n",
       "    }\n",
       "\n",
       "    .dataframe thead th {\n",
       "        text-align: right;\n",
       "    }\n",
       "</style>\n",
       "<table border=\"1\" class=\"dataframe\">\n",
       "  <thead>\n",
       "    <tr style=\"text-align: right;\">\n",
       "      <th></th>\n",
       "      <th>n</th>\n",
       "    </tr>\n",
       "  </thead>\n",
       "  <tbody>\n",
       "    <tr>\n",
       "      <th>0</th>\n",
       "      <td>(shares, cusip, reportCalendarOrQuarter, filin...</td>\n",
       "    </tr>\n",
       "    <tr>\n",
       "      <th>1</th>\n",
       "      <td>(shares, cusip, reportCalendarOrQuarter, filin...</td>\n",
       "    </tr>\n",
       "    <tr>\n",
       "      <th>2</th>\n",
       "      <td>(shares, cusip, reportCalendarOrQuarter, filin...</td>\n",
       "    </tr>\n",
       "    <tr>\n",
       "      <th>3</th>\n",
       "      <td>(shares, cusip, reportCalendarOrQuarter, filin...</td>\n",
       "    </tr>\n",
       "    <tr>\n",
       "      <th>4</th>\n",
       "      <td>(shares, cusip, reportCalendarOrQuarter, filin...</td>\n",
       "    </tr>\n",
       "    <tr>\n",
       "      <th>...</th>\n",
       "      <td>...</td>\n",
       "    </tr>\n",
       "    <tr>\n",
       "      <th>446917</th>\n",
       "      <td>(shares, cusip, reportCalendarOrQuarter, filin...</td>\n",
       "    </tr>\n",
       "    <tr>\n",
       "      <th>446918</th>\n",
       "      <td>(shares, cusip, reportCalendarOrQuarter, filin...</td>\n",
       "    </tr>\n",
       "    <tr>\n",
       "      <th>446919</th>\n",
       "      <td>(shares, cusip, reportCalendarOrQuarter, filin...</td>\n",
       "    </tr>\n",
       "    <tr>\n",
       "      <th>446920</th>\n",
       "      <td>(shares, cusip, reportCalendarOrQuarter, filin...</td>\n",
       "    </tr>\n",
       "    <tr>\n",
       "      <th>446921</th>\n",
       "      <td>(shares, cusip, reportCalendarOrQuarter, filin...</td>\n",
       "    </tr>\n",
       "  </tbody>\n",
       "</table>\n",
       "<p>446922 rows × 1 columns</p>\n",
       "</div>"
      ],
      "text/plain": [
       "                                                        n\n",
       "0       (shares, cusip, reportCalendarOrQuarter, filin...\n",
       "1       (shares, cusip, reportCalendarOrQuarter, filin...\n",
       "2       (shares, cusip, reportCalendarOrQuarter, filin...\n",
       "3       (shares, cusip, reportCalendarOrQuarter, filin...\n",
       "4       (shares, cusip, reportCalendarOrQuarter, filin...\n",
       "...                                                   ...\n",
       "446917  (shares, cusip, reportCalendarOrQuarter, filin...\n",
       "446918  (shares, cusip, reportCalendarOrQuarter, filin...\n",
       "446919  (shares, cusip, reportCalendarOrQuarter, filin...\n",
       "446920  (shares, cusip, reportCalendarOrQuarter, filin...\n",
       "446921  (shares, cusip, reportCalendarOrQuarter, filin...\n",
       "\n",
       "[446922 rows x 1 columns]"
      ]
     },
     "metadata": {},
     "output_type": "display_data"
    }
   ],
   "source": [
    "result = gds.run_cypher(\n",
    "  \"\"\"\n",
    "    MATCH (n:Holding) RETURN n\n",
    "  \"\"\"\n",
    ")\n",
    "display(result)"
   ]
  },
  {
   "cell_type": "markdown",
   "metadata": {
    "id": "1N_x38Ci6Oxc"
   },
   "source": [
    "Note that this query will take 2-3 minutes to run as it's grabbing nearly half a million nodes along with all their properties and our new embedding."
   ]
  },
  {
   "cell_type": "code",
   "execution_count": 5,
   "metadata": {
    "id": "197ZaAH16Oxc"
   },
   "outputs": [
    {
     "data": {
      "text/html": [
       "<div>\n",
       "<style scoped>\n",
       "    .dataframe tbody tr th:only-of-type {\n",
       "        vertical-align: middle;\n",
       "    }\n",
       "\n",
       "    .dataframe tbody tr th {\n",
       "        vertical-align: top;\n",
       "    }\n",
       "\n",
       "    .dataframe thead th {\n",
       "        text-align: right;\n",
       "    }\n",
       "</style>\n",
       "<table border=\"1\" class=\"dataframe\">\n",
       "  <thead>\n",
       "    <tr style=\"text-align: right;\">\n",
       "      <th></th>\n",
       "      <th>shares</th>\n",
       "      <th>cusip</th>\n",
       "      <th>reportCalendarOrQuarter</th>\n",
       "      <th>filingManager</th>\n",
       "      <th>embedding</th>\n",
       "      <th>nameOfIssuer</th>\n",
       "      <th>value</th>\n",
       "      <th>target</th>\n",
       "    </tr>\n",
       "  </thead>\n",
       "  <tbody>\n",
       "    <tr>\n",
       "      <th>0</th>\n",
       "      <td>270</td>\n",
       "      <td>88579Y101</td>\n",
       "      <td>03-31-2021</td>\n",
       "      <td>LEDERER &amp; ASSOCIATES INVESTMENT COUNSEL/CA</td>\n",
       "      <td>[-0.06891357153654099, 0.17251430451869965, -0...</td>\n",
       "      <td>3M Co</td>\n",
       "      <td>52024000</td>\n",
       "      <td>False</td>\n",
       "    </tr>\n",
       "    <tr>\n",
       "      <th>1</th>\n",
       "      <td>195</td>\n",
       "      <td>00508Y102</td>\n",
       "      <td>03-31-2021</td>\n",
       "      <td>LEDERER &amp; ASSOCIATES INVESTMENT COUNSEL/CA</td>\n",
       "      <td>[-0.0012208909029141068, 0.005601376295089722,...</td>\n",
       "      <td>Acuity Brands Inc</td>\n",
       "      <td>32175000</td>\n",
       "      <td>False</td>\n",
       "    </tr>\n",
       "    <tr>\n",
       "      <th>2</th>\n",
       "      <td>4939</td>\n",
       "      <td>00724F101</td>\n",
       "      <td>03-31-2021</td>\n",
       "      <td>LEDERER &amp; ASSOCIATES INVESTMENT COUNSEL/CA</td>\n",
       "      <td>[0.11818736791610718, 0.2625264525413513, -0.0...</td>\n",
       "      <td>Adobe Systems Inc</td>\n",
       "      <td>2347852000</td>\n",
       "      <td>False</td>\n",
       "    </tr>\n",
       "    <tr>\n",
       "      <th>3</th>\n",
       "      <td>1557</td>\n",
       "      <td>02079K305</td>\n",
       "      <td>03-31-2021</td>\n",
       "      <td>LEDERER &amp; ASSOCIATES INVESTMENT COUNSEL/CA</td>\n",
       "      <td>[0.14201897382736206, 0.26428067684173584, 0.1...</td>\n",
       "      <td>Alphabet Inc A</td>\n",
       "      <td>3211344000</td>\n",
       "      <td>False</td>\n",
       "    </tr>\n",
       "    <tr>\n",
       "      <th>4</th>\n",
       "      <td>837</td>\n",
       "      <td>02079K107</td>\n",
       "      <td>03-31-2021</td>\n",
       "      <td>LEDERER &amp; ASSOCIATES INVESTMENT COUNSEL/CA</td>\n",
       "      <td>[0.30085813999176025, 0.24750658869743347, 0.4...</td>\n",
       "      <td>Alphabet Inc C</td>\n",
       "      <td>1731443000</td>\n",
       "      <td>False</td>\n",
       "    </tr>\n",
       "    <tr>\n",
       "      <th>...</th>\n",
       "      <td>...</td>\n",
       "      <td>...</td>\n",
       "      <td>...</td>\n",
       "      <td>...</td>\n",
       "      <td>...</td>\n",
       "      <td>...</td>\n",
       "      <td>...</td>\n",
       "      <td>...</td>\n",
       "    </tr>\n",
       "    <tr>\n",
       "      <th>446917</th>\n",
       "      <td>56874</td>\n",
       "      <td>911312106</td>\n",
       "      <td>09-30-2021</td>\n",
       "      <td>LEE DANNER &amp; BASS INC</td>\n",
       "      <td>[-0.10756000876426697, 0.09883546084165573, 0....</td>\n",
       "      <td>United Parcel Svc. Cl B</td>\n",
       "      <td>10357000</td>\n",
       "      <td>False</td>\n",
       "    </tr>\n",
       "    <tr>\n",
       "      <th>446918</th>\n",
       "      <td>231000</td>\n",
       "      <td>92552v100</td>\n",
       "      <td>09-30-2021</td>\n",
       "      <td>LEE DANNER &amp; BASS INC</td>\n",
       "      <td>[-0.19772686064243317, 0.19481559097766876, 0....</td>\n",
       "      <td>ViaSat Inc</td>\n",
       "      <td>12721000</td>\n",
       "      <td>True</td>\n",
       "    </tr>\n",
       "    <tr>\n",
       "      <th>446919</th>\n",
       "      <td>55104</td>\n",
       "      <td>92826C839</td>\n",
       "      <td>09-30-2021</td>\n",
       "      <td>LEE DANNER &amp; BASS INC</td>\n",
       "      <td>[0.19159139692783356, 0.5284039974212646, 0.15...</td>\n",
       "      <td>Visa Inc</td>\n",
       "      <td>12274000</td>\n",
       "      <td>True</td>\n",
       "    </tr>\n",
       "    <tr>\n",
       "      <th>446920</th>\n",
       "      <td>79459</td>\n",
       "      <td>931142103</td>\n",
       "      <td>09-30-2021</td>\n",
       "      <td>LEE DANNER &amp; BASS INC</td>\n",
       "      <td>[0.16196903586387634, 0.5445767045021057, 0.60...</td>\n",
       "      <td>Wal-Mart Stores Inc.</td>\n",
       "      <td>11075000</td>\n",
       "      <td>False</td>\n",
       "    </tr>\n",
       "    <tr>\n",
       "      <th>446921</th>\n",
       "      <td>130058</td>\n",
       "      <td>254687106</td>\n",
       "      <td>09-30-2021</td>\n",
       "      <td>LEE DANNER &amp; BASS INC</td>\n",
       "      <td>[0.08698970824480057, 0.25597137212753296, -0....</td>\n",
       "      <td>Walt Disney Co.</td>\n",
       "      <td>22002000</td>\n",
       "      <td>True</td>\n",
       "    </tr>\n",
       "  </tbody>\n",
       "</table>\n",
       "<p>446922 rows × 8 columns</p>\n",
       "</div>"
      ],
      "text/plain": [
       "        shares      cusip reportCalendarOrQuarter  \\\n",
       "0          270  88579Y101              03-31-2021   \n",
       "1          195  00508Y102              03-31-2021   \n",
       "2         4939  00724F101              03-31-2021   \n",
       "3         1557  02079K305              03-31-2021   \n",
       "4          837  02079K107              03-31-2021   \n",
       "...        ...        ...                     ...   \n",
       "446917   56874  911312106              09-30-2021   \n",
       "446918  231000  92552v100              09-30-2021   \n",
       "446919   55104  92826C839              09-30-2021   \n",
       "446920   79459  931142103              09-30-2021   \n",
       "446921  130058  254687106              09-30-2021   \n",
       "\n",
       "                                     filingManager  \\\n",
       "0       LEDERER & ASSOCIATES INVESTMENT COUNSEL/CA   \n",
       "1       LEDERER & ASSOCIATES INVESTMENT COUNSEL/CA   \n",
       "2       LEDERER & ASSOCIATES INVESTMENT COUNSEL/CA   \n",
       "3       LEDERER & ASSOCIATES INVESTMENT COUNSEL/CA   \n",
       "4       LEDERER & ASSOCIATES INVESTMENT COUNSEL/CA   \n",
       "...                                            ...   \n",
       "446917                       LEE DANNER & BASS INC   \n",
       "446918                       LEE DANNER & BASS INC   \n",
       "446919                       LEE DANNER & BASS INC   \n",
       "446920                       LEE DANNER & BASS INC   \n",
       "446921                       LEE DANNER & BASS INC   \n",
       "\n",
       "                                                embedding  \\\n",
       "0       [-0.06891357153654099, 0.17251430451869965, -0...   \n",
       "1       [-0.0012208909029141068, 0.005601376295089722,...   \n",
       "2       [0.11818736791610718, 0.2625264525413513, -0.0...   \n",
       "3       [0.14201897382736206, 0.26428067684173584, 0.1...   \n",
       "4       [0.30085813999176025, 0.24750658869743347, 0.4...   \n",
       "...                                                   ...   \n",
       "446917  [-0.10756000876426697, 0.09883546084165573, 0....   \n",
       "446918  [-0.19772686064243317, 0.19481559097766876, 0....   \n",
       "446919  [0.19159139692783356, 0.5284039974212646, 0.15...   \n",
       "446920  [0.16196903586387634, 0.5445767045021057, 0.60...   \n",
       "446921  [0.08698970824480057, 0.25597137212753296, -0....   \n",
       "\n",
       "                   nameOfIssuer       value target  \n",
       "0                         3M Co    52024000  False  \n",
       "1             Acuity Brands Inc    32175000  False  \n",
       "2             Adobe Systems Inc  2347852000  False  \n",
       "3                Alphabet Inc A  3211344000  False  \n",
       "4                Alphabet Inc C  1731443000  False  \n",
       "...                         ...         ...    ...  \n",
       "446917  United Parcel Svc. Cl B    10357000  False  \n",
       "446918               ViaSat Inc    12721000   True  \n",
       "446919                 Visa Inc    12274000   True  \n",
       "446920     Wal-Mart Stores Inc.    11075000  False  \n",
       "446921          Walt Disney Co.    22002000   True  \n",
       "\n",
       "[446922 rows x 8 columns]"
      ]
     },
     "execution_count": 5,
     "metadata": {},
     "output_type": "execute_result"
    }
   ],
   "source": [
    "import pandas as pd\n",
    "df = pd.DataFrame([dict(record.items()) for record in result['n']])\n",
    "df"
   ]
  },
  {
   "cell_type": "markdown",
   "metadata": {
    "id": "A3esUO8s6Oxc"
   },
   "source": [
    "Note that the embedding row is an array. To make this dataset more consumable, we should flatten that out into multiple individual features: embedding_0, embedding_1, ... embedding_n.\n"
   ]
  },
  {
   "cell_type": "code",
   "execution_count": 6,
   "metadata": {
    "id": "-i0_txCB6Oxc"
   },
   "outputs": [
    {
     "data": {
      "text/html": [
       "<div>\n",
       "<style scoped>\n",
       "    .dataframe tbody tr th:only-of-type {\n",
       "        vertical-align: middle;\n",
       "    }\n",
       "\n",
       "    .dataframe tbody tr th {\n",
       "        vertical-align: top;\n",
       "    }\n",
       "\n",
       "    .dataframe thead th {\n",
       "        text-align: right;\n",
       "    }\n",
       "</style>\n",
       "<table border=\"1\" class=\"dataframe\">\n",
       "  <thead>\n",
       "    <tr style=\"text-align: right;\">\n",
       "      <th></th>\n",
       "      <th>shares</th>\n",
       "      <th>cusip</th>\n",
       "      <th>reportCalendarOrQuarter</th>\n",
       "      <th>filingManager</th>\n",
       "      <th>nameOfIssuer</th>\n",
       "      <th>value</th>\n",
       "      <th>target</th>\n",
       "      <th>embedding_0</th>\n",
       "      <th>embedding_1</th>\n",
       "      <th>embedding_2</th>\n",
       "      <th>...</th>\n",
       "      <th>embedding_6</th>\n",
       "      <th>embedding_7</th>\n",
       "      <th>embedding_8</th>\n",
       "      <th>embedding_9</th>\n",
       "      <th>embedding_10</th>\n",
       "      <th>embedding_11</th>\n",
       "      <th>embedding_12</th>\n",
       "      <th>embedding_13</th>\n",
       "      <th>embedding_14</th>\n",
       "      <th>embedding_15</th>\n",
       "    </tr>\n",
       "  </thead>\n",
       "  <tbody>\n",
       "    <tr>\n",
       "      <th>0</th>\n",
       "      <td>270</td>\n",
       "      <td>88579Y101</td>\n",
       "      <td>03-31-2021</td>\n",
       "      <td>LEDERER &amp; ASSOCIATES INVESTMENT COUNSEL/CA</td>\n",
       "      <td>3M Co</td>\n",
       "      <td>52024000</td>\n",
       "      <td>False</td>\n",
       "      <td>-0.068914</td>\n",
       "      <td>0.172514</td>\n",
       "      <td>-0.270718</td>\n",
       "      <td>...</td>\n",
       "      <td>0.142906</td>\n",
       "      <td>0.707541</td>\n",
       "      <td>0.255056</td>\n",
       "      <td>0.168236</td>\n",
       "      <td>0.014960</td>\n",
       "      <td>-0.183164</td>\n",
       "      <td>0.214030</td>\n",
       "      <td>-0.149799</td>\n",
       "      <td>0.436635</td>\n",
       "      <td>-0.393186</td>\n",
       "    </tr>\n",
       "    <tr>\n",
       "      <th>1</th>\n",
       "      <td>195</td>\n",
       "      <td>00508Y102</td>\n",
       "      <td>03-31-2021</td>\n",
       "      <td>LEDERER &amp; ASSOCIATES INVESTMENT COUNSEL/CA</td>\n",
       "      <td>Acuity Brands Inc</td>\n",
       "      <td>32175000</td>\n",
       "      <td>False</td>\n",
       "      <td>-0.001221</td>\n",
       "      <td>0.005601</td>\n",
       "      <td>-0.008561</td>\n",
       "      <td>...</td>\n",
       "      <td>-0.249999</td>\n",
       "      <td>-0.027272</td>\n",
       "      <td>0.210765</td>\n",
       "      <td>0.232817</td>\n",
       "      <td>0.275897</td>\n",
       "      <td>-0.276700</td>\n",
       "      <td>0.338566</td>\n",
       "      <td>-0.479243</td>\n",
       "      <td>0.789944</td>\n",
       "      <td>-0.336510</td>\n",
       "    </tr>\n",
       "    <tr>\n",
       "      <th>2</th>\n",
       "      <td>4939</td>\n",
       "      <td>00724F101</td>\n",
       "      <td>03-31-2021</td>\n",
       "      <td>LEDERER &amp; ASSOCIATES INVESTMENT COUNSEL/CA</td>\n",
       "      <td>Adobe Systems Inc</td>\n",
       "      <td>2347852000</td>\n",
       "      <td>False</td>\n",
       "      <td>0.118187</td>\n",
       "      <td>0.262526</td>\n",
       "      <td>-0.081295</td>\n",
       "      <td>...</td>\n",
       "      <td>-0.591563</td>\n",
       "      <td>0.398565</td>\n",
       "      <td>0.239687</td>\n",
       "      <td>-0.259427</td>\n",
       "      <td>-0.352596</td>\n",
       "      <td>0.025593</td>\n",
       "      <td>0.626399</td>\n",
       "      <td>0.247615</td>\n",
       "      <td>0.445566</td>\n",
       "      <td>0.094596</td>\n",
       "    </tr>\n",
       "    <tr>\n",
       "      <th>3</th>\n",
       "      <td>1557</td>\n",
       "      <td>02079K305</td>\n",
       "      <td>03-31-2021</td>\n",
       "      <td>LEDERER &amp; ASSOCIATES INVESTMENT COUNSEL/CA</td>\n",
       "      <td>Alphabet Inc A</td>\n",
       "      <td>3211344000</td>\n",
       "      <td>False</td>\n",
       "      <td>0.142019</td>\n",
       "      <td>0.264281</td>\n",
       "      <td>0.142079</td>\n",
       "      <td>...</td>\n",
       "      <td>-0.150988</td>\n",
       "      <td>1.035650</td>\n",
       "      <td>0.370033</td>\n",
       "      <td>-0.064532</td>\n",
       "      <td>-0.239375</td>\n",
       "      <td>-0.003771</td>\n",
       "      <td>0.124420</td>\n",
       "      <td>0.027277</td>\n",
       "      <td>0.077211</td>\n",
       "      <td>-0.477533</td>\n",
       "    </tr>\n",
       "    <tr>\n",
       "      <th>4</th>\n",
       "      <td>837</td>\n",
       "      <td>02079K107</td>\n",
       "      <td>03-31-2021</td>\n",
       "      <td>LEDERER &amp; ASSOCIATES INVESTMENT COUNSEL/CA</td>\n",
       "      <td>Alphabet Inc C</td>\n",
       "      <td>1731443000</td>\n",
       "      <td>False</td>\n",
       "      <td>0.300858</td>\n",
       "      <td>0.247507</td>\n",
       "      <td>0.449530</td>\n",
       "      <td>...</td>\n",
       "      <td>-0.415947</td>\n",
       "      <td>0.365203</td>\n",
       "      <td>-0.428251</td>\n",
       "      <td>-0.000808</td>\n",
       "      <td>0.304490</td>\n",
       "      <td>0.002407</td>\n",
       "      <td>-0.100384</td>\n",
       "      <td>-0.317436</td>\n",
       "      <td>0.368293</td>\n",
       "      <td>-0.037012</td>\n",
       "    </tr>\n",
       "    <tr>\n",
       "      <th>...</th>\n",
       "      <td>...</td>\n",
       "      <td>...</td>\n",
       "      <td>...</td>\n",
       "      <td>...</td>\n",
       "      <td>...</td>\n",
       "      <td>...</td>\n",
       "      <td>...</td>\n",
       "      <td>...</td>\n",
       "      <td>...</td>\n",
       "      <td>...</td>\n",
       "      <td>...</td>\n",
       "      <td>...</td>\n",
       "      <td>...</td>\n",
       "      <td>...</td>\n",
       "      <td>...</td>\n",
       "      <td>...</td>\n",
       "      <td>...</td>\n",
       "      <td>...</td>\n",
       "      <td>...</td>\n",
       "      <td>...</td>\n",
       "      <td>...</td>\n",
       "    </tr>\n",
       "    <tr>\n",
       "      <th>446917</th>\n",
       "      <td>56874</td>\n",
       "      <td>911312106</td>\n",
       "      <td>09-30-2021</td>\n",
       "      <td>LEE DANNER &amp; BASS INC</td>\n",
       "      <td>United Parcel Svc. Cl B</td>\n",
       "      <td>10357000</td>\n",
       "      <td>False</td>\n",
       "      <td>-0.107560</td>\n",
       "      <td>0.098835</td>\n",
       "      <td>0.136811</td>\n",
       "      <td>...</td>\n",
       "      <td>-0.246284</td>\n",
       "      <td>0.304195</td>\n",
       "      <td>0.127205</td>\n",
       "      <td>-0.927462</td>\n",
       "      <td>-0.280658</td>\n",
       "      <td>0.211018</td>\n",
       "      <td>-0.149063</td>\n",
       "      <td>-0.060732</td>\n",
       "      <td>-0.073806</td>\n",
       "      <td>-0.089820</td>\n",
       "    </tr>\n",
       "    <tr>\n",
       "      <th>446918</th>\n",
       "      <td>231000</td>\n",
       "      <td>92552v100</td>\n",
       "      <td>09-30-2021</td>\n",
       "      <td>LEE DANNER &amp; BASS INC</td>\n",
       "      <td>ViaSat Inc</td>\n",
       "      <td>12721000</td>\n",
       "      <td>True</td>\n",
       "      <td>-0.197727</td>\n",
       "      <td>0.194816</td>\n",
       "      <td>0.100359</td>\n",
       "      <td>...</td>\n",
       "      <td>-0.246779</td>\n",
       "      <td>0.370053</td>\n",
       "      <td>0.573178</td>\n",
       "      <td>0.061018</td>\n",
       "      <td>-0.038240</td>\n",
       "      <td>-0.423521</td>\n",
       "      <td>-0.037658</td>\n",
       "      <td>-0.372200</td>\n",
       "      <td>-0.453317</td>\n",
       "      <td>-0.374626</td>\n",
       "    </tr>\n",
       "    <tr>\n",
       "      <th>446919</th>\n",
       "      <td>55104</td>\n",
       "      <td>92826C839</td>\n",
       "      <td>09-30-2021</td>\n",
       "      <td>LEE DANNER &amp; BASS INC</td>\n",
       "      <td>Visa Inc</td>\n",
       "      <td>12274000</td>\n",
       "      <td>True</td>\n",
       "      <td>0.191591</td>\n",
       "      <td>0.528404</td>\n",
       "      <td>0.158589</td>\n",
       "      <td>...</td>\n",
       "      <td>-0.766427</td>\n",
       "      <td>-0.110385</td>\n",
       "      <td>0.576788</td>\n",
       "      <td>-0.022191</td>\n",
       "      <td>-0.768111</td>\n",
       "      <td>-0.192285</td>\n",
       "      <td>-0.119118</td>\n",
       "      <td>0.234878</td>\n",
       "      <td>0.124492</td>\n",
       "      <td>-0.344153</td>\n",
       "    </tr>\n",
       "    <tr>\n",
       "      <th>446920</th>\n",
       "      <td>79459</td>\n",
       "      <td>931142103</td>\n",
       "      <td>09-30-2021</td>\n",
       "      <td>LEE DANNER &amp; BASS INC</td>\n",
       "      <td>Wal-Mart Stores Inc.</td>\n",
       "      <td>11075000</td>\n",
       "      <td>False</td>\n",
       "      <td>0.161969</td>\n",
       "      <td>0.544577</td>\n",
       "      <td>0.602678</td>\n",
       "      <td>...</td>\n",
       "      <td>-0.070697</td>\n",
       "      <td>-0.004854</td>\n",
       "      <td>0.217884</td>\n",
       "      <td>-0.519946</td>\n",
       "      <td>-0.045873</td>\n",
       "      <td>-0.047081</td>\n",
       "      <td>-0.103562</td>\n",
       "      <td>0.011971</td>\n",
       "      <td>-0.375597</td>\n",
       "      <td>-0.362491</td>\n",
       "    </tr>\n",
       "    <tr>\n",
       "      <th>446921</th>\n",
       "      <td>130058</td>\n",
       "      <td>254687106</td>\n",
       "      <td>09-30-2021</td>\n",
       "      <td>LEE DANNER &amp; BASS INC</td>\n",
       "      <td>Walt Disney Co.</td>\n",
       "      <td>22002000</td>\n",
       "      <td>True</td>\n",
       "      <td>0.086990</td>\n",
       "      <td>0.255971</td>\n",
       "      <td>-0.275002</td>\n",
       "      <td>...</td>\n",
       "      <td>-0.458855</td>\n",
       "      <td>-0.261452</td>\n",
       "      <td>0.034238</td>\n",
       "      <td>-0.147225</td>\n",
       "      <td>-0.684697</td>\n",
       "      <td>-0.627213</td>\n",
       "      <td>0.154904</td>\n",
       "      <td>0.086193</td>\n",
       "      <td>0.071984</td>\n",
       "      <td>0.083615</td>\n",
       "    </tr>\n",
       "  </tbody>\n",
       "</table>\n",
       "<p>446922 rows × 23 columns</p>\n",
       "</div>"
      ],
      "text/plain": [
       "        shares      cusip reportCalendarOrQuarter  \\\n",
       "0          270  88579Y101              03-31-2021   \n",
       "1          195  00508Y102              03-31-2021   \n",
       "2         4939  00724F101              03-31-2021   \n",
       "3         1557  02079K305              03-31-2021   \n",
       "4          837  02079K107              03-31-2021   \n",
       "...        ...        ...                     ...   \n",
       "446917   56874  911312106              09-30-2021   \n",
       "446918  231000  92552v100              09-30-2021   \n",
       "446919   55104  92826C839              09-30-2021   \n",
       "446920   79459  931142103              09-30-2021   \n",
       "446921  130058  254687106              09-30-2021   \n",
       "\n",
       "                                     filingManager             nameOfIssuer  \\\n",
       "0       LEDERER & ASSOCIATES INVESTMENT COUNSEL/CA                    3M Co   \n",
       "1       LEDERER & ASSOCIATES INVESTMENT COUNSEL/CA        Acuity Brands Inc   \n",
       "2       LEDERER & ASSOCIATES INVESTMENT COUNSEL/CA        Adobe Systems Inc   \n",
       "3       LEDERER & ASSOCIATES INVESTMENT COUNSEL/CA           Alphabet Inc A   \n",
       "4       LEDERER & ASSOCIATES INVESTMENT COUNSEL/CA           Alphabet Inc C   \n",
       "...                                            ...                      ...   \n",
       "446917                       LEE DANNER & BASS INC  United Parcel Svc. Cl B   \n",
       "446918                       LEE DANNER & BASS INC               ViaSat Inc   \n",
       "446919                       LEE DANNER & BASS INC                 Visa Inc   \n",
       "446920                       LEE DANNER & BASS INC     Wal-Mart Stores Inc.   \n",
       "446921                       LEE DANNER & BASS INC          Walt Disney Co.   \n",
       "\n",
       "             value target  embedding_0  embedding_1  embedding_2  ...  \\\n",
       "0         52024000  False    -0.068914     0.172514    -0.270718  ...   \n",
       "1         32175000  False    -0.001221     0.005601    -0.008561  ...   \n",
       "2       2347852000  False     0.118187     0.262526    -0.081295  ...   \n",
       "3       3211344000  False     0.142019     0.264281     0.142079  ...   \n",
       "4       1731443000  False     0.300858     0.247507     0.449530  ...   \n",
       "...            ...    ...          ...          ...          ...  ...   \n",
       "446917    10357000  False    -0.107560     0.098835     0.136811  ...   \n",
       "446918    12721000   True    -0.197727     0.194816     0.100359  ...   \n",
       "446919    12274000   True     0.191591     0.528404     0.158589  ...   \n",
       "446920    11075000  False     0.161969     0.544577     0.602678  ...   \n",
       "446921    22002000   True     0.086990     0.255971    -0.275002  ...   \n",
       "\n",
       "        embedding_6  embedding_7  embedding_8  embedding_9  embedding_10  \\\n",
       "0          0.142906     0.707541     0.255056     0.168236      0.014960   \n",
       "1         -0.249999    -0.027272     0.210765     0.232817      0.275897   \n",
       "2         -0.591563     0.398565     0.239687    -0.259427     -0.352596   \n",
       "3         -0.150988     1.035650     0.370033    -0.064532     -0.239375   \n",
       "4         -0.415947     0.365203    -0.428251    -0.000808      0.304490   \n",
       "...             ...          ...          ...          ...           ...   \n",
       "446917    -0.246284     0.304195     0.127205    -0.927462     -0.280658   \n",
       "446918    -0.246779     0.370053     0.573178     0.061018     -0.038240   \n",
       "446919    -0.766427    -0.110385     0.576788    -0.022191     -0.768111   \n",
       "446920    -0.070697    -0.004854     0.217884    -0.519946     -0.045873   \n",
       "446921    -0.458855    -0.261452     0.034238    -0.147225     -0.684697   \n",
       "\n",
       "        embedding_11  embedding_12  embedding_13  embedding_14  embedding_15  \n",
       "0          -0.183164      0.214030     -0.149799      0.436635     -0.393186  \n",
       "1          -0.276700      0.338566     -0.479243      0.789944     -0.336510  \n",
       "2           0.025593      0.626399      0.247615      0.445566      0.094596  \n",
       "3          -0.003771      0.124420      0.027277      0.077211     -0.477533  \n",
       "4           0.002407     -0.100384     -0.317436      0.368293     -0.037012  \n",
       "...              ...           ...           ...           ...           ...  \n",
       "446917      0.211018     -0.149063     -0.060732     -0.073806     -0.089820  \n",
       "446918     -0.423521     -0.037658     -0.372200     -0.453317     -0.374626  \n",
       "446919     -0.192285     -0.119118      0.234878      0.124492     -0.344153  \n",
       "446920     -0.047081     -0.103562      0.011971     -0.375597     -0.362491  \n",
       "446921     -0.627213      0.154904      0.086193      0.071984      0.083615  \n",
       "\n",
       "[446922 rows x 23 columns]"
      ]
     },
     "execution_count": 6,
     "metadata": {},
     "output_type": "execute_result"
    }
   ],
   "source": [
    "embeddings = pd.DataFrame(df['embedding'].values.tolist()).add_prefix(\"embedding_\")\n",
    "merged = df.drop(columns=['embedding']).merge(embeddings, left_index=True, right_index=True)\n",
    "merged"
   ]
  },
  {
   "cell_type": "markdown",
   "metadata": {
    "id": "4Zb7lH366Oxc"
   },
   "source": [
    "Now that we have the data formatted properly, let's split it into training, testing and validation sets.  We'll write those to disk."
   ]
  },
  {
   "cell_type": "code",
   "execution_count": 8,
   "metadata": {
    "id": "uLg34zlu6Oxc"
   },
   "outputs": [],
   "source": [
    "df = merged\n",
    "\n",
    "train = df.loc[df['reportCalendarOrQuarter'] == '03-31-2021']\n",
    "train.to_csv('train.csv', index=False)\n",
    "\n",
    "test = df.loc[df['reportCalendarOrQuarter'] == '06-30-2021']\n",
    "test.to_csv('test.csv', index=False)\n",
    "\n",
    "validate = df.loc[df['reportCalendarOrQuarter'] == '09-30-2021']\n",
    "validate.to_csv('validate.csv', index=False)"
   ]
  },
  {
   "cell_type": "markdown",
   "metadata": {},
   "source": [
    "## SageMaker Connection\n",
    "Let's setup our SageMaker connection."
   ]
  },
  {
   "cell_type": "code",
   "execution_count": 15,
   "metadata": {},
   "outputs": [],
   "source": [
    "import sagemaker\n",
    "import boto3\n",
    "\n",
    "region = boto3.Session().region_name\n",
    "\n",
    "session = sagemaker.Session()\n",
    "bucket = session.default_bucket()\n",
    "prefix = 'sagemaker/form13'\n",
    "\n",
    "role = sagemaker.get_execution_role()\n",
    "\n",
    "sm = boto3.Session().client(service_name='sagemaker', region_name=region)"
   ]
  },
  {
   "cell_type": "markdown",
   "metadata": {},
   "source": [
    "## Upload to Amazon S3\n",
    "Now we're going to upload the training and testing data to our default SageMaker bucket."
   ]
  },
  {
   "cell_type": "code",
   "execution_count": 16,
   "metadata": {},
   "outputs": [
    {
     "name": "stdout",
     "output_type": "stream",
     "text": [
      "Training data uploaded to: s3://sagemaker-us-east-1-159878781974/sagemaker/form13/train/train.csv\n",
      "Testing data uploaded to: s3://sagemaker-us-east-1-159878781974/sagemaker/form13/test/test.csv\n"
     ]
    }
   ],
   "source": [
    "train_data_s3_path = session.upload_data(path='train.csv', key_prefix=prefix + '/train')\n",
    "print('Training data uploaded to: ' + train_data_s3_path)\n",
    "\n",
    "test_data_s3_path = session.upload_data(path='test.csv', key_prefix=prefix + '/test')\n",
    "print('Testing data uploaded to: ' + test_data_s3_path)"
   ]
  },
  {
   "cell_type": "markdown",
   "metadata": {},
   "source": [
    "## Setting up the SageMaker Autopilot Job\n",
    "After uploading the dataset to Amazon S3, you can invoke Autopilot to find the best ML pipeline to train a model on this dataset."
   ]
  },
  {
   "cell_type": "code",
   "execution_count": 17,
   "metadata": {},
   "outputs": [],
   "source": [
    "auto_ml_job_config = {'CompletionCriteria': {'MaxCandidates': 5}}\n",
    "\n",
    "input_data_config = [\n",
    "    {\n",
    "        'DataSource': {\n",
    "            'S3DataSource': {\n",
    "                'S3DataType': 'S3Prefix',\n",
    "                'S3Uri': 's3://{}/{}/train'.format(bucket, prefix),\n",
    "            }\n",
    "        },\n",
    "        'TargetAttributeName': 'target',\n",
    "    }\n",
    "]\n",
    "\n",
    "output_data_config = {'S3OutputPath': 's3://{}/{}/output'.format(bucket, prefix)}"
   ]
  },
  {
   "cell_type": "markdown",
   "metadata": {},
   "source": [
    "## Launching the SageMaker Autopilot Job\n",
    "You can now launch the Autopilot job by calling the create_auto_ml_job method."
   ]
  },
  {
   "cell_type": "code",
   "execution_count": 18,
   "metadata": {},
   "outputs": [
    {
     "name": "stdout",
     "output_type": "stream",
     "text": [
      "AutoMLJobName: automl-form13-22-10-55-29\n"
     ]
    },
    {
     "data": {
      "text/plain": [
       "{'AutoMLJobArn': 'arn:aws:sagemaker:us-east-1:159878781974:automl-job/automl-form13-22-10-55-29',\n",
       " 'ResponseMetadata': {'RequestId': '702afbb7-0d56-4d11-b31a-8b77f5afe841',\n",
       "  'HTTPStatusCode': 200,\n",
       "  'HTTPHeaders': {'x-amzn-requestid': '702afbb7-0d56-4d11-b31a-8b77f5afe841',\n",
       "   'content-type': 'application/x-amz-json-1.1',\n",
       "   'content-length': '96',\n",
       "   'date': 'Wed, 22 Jun 2022 10:55:29 GMT'},\n",
       "  'RetryAttempts': 0}}"
      ]
     },
     "execution_count": 18,
     "metadata": {},
     "output_type": "execute_result"
    }
   ],
   "source": [
    "from time import gmtime, strftime, sleep\n",
    "\n",
    "timestamp_suffix = strftime('%d-%H-%M-%S', gmtime())\n",
    "\n",
    "auto_ml_job_name = 'automl-form13-' + timestamp_suffix\n",
    "print('AutoMLJobName: ' + auto_ml_job_name)\n",
    "\n",
    "sm.create_auto_ml_job(\n",
    "    AutoMLJobName=auto_ml_job_name,\n",
    "    InputDataConfig=input_data_config,\n",
    "    OutputDataConfig=output_data_config,\n",
    "    AutoMLJobConfig=auto_ml_job_config,\n",
    "    RoleArn=role,\n",
    ")"
   ]
  },
  {
   "cell_type": "markdown",
   "metadata": {},
   "source": [
    "## Tracking SageMaker Autopilot job progress\n",
    "SageMaker Autopilot job consists of the following high-level steps : * Analyzing Data, where the dataset is analyzed and Autopilot comes up with a list of ML pipelines that should be tried out on the dataset. The dataset is also split into train and validation sets. * Feature Engineering, where Autopilot performs feature transformation on individual features of the dataset as well as at an aggregate level. * Model Tuning, where the top performing pipeline is selected along with the optimal hyperparameters for the training algorithm (the last stage of the pipeline)."
   ]
  },
  {
   "cell_type": "code",
   "execution_count": null,
   "metadata": {},
   "outputs": [
    {
     "name": "stdout",
     "output_type": "stream",
     "text": [
      "JobStatus - Secondary Status\n",
      "------------------------------\n",
      "InProgress - AnalyzingData\n",
      "InProgress - AnalyzingData\n",
      "InProgress - AnalyzingData\n",
      "InProgress - AnalyzingData\n",
      "InProgress - AnalyzingData\n",
      "InProgress - AnalyzingData\n",
      "InProgress - AnalyzingData\n",
      "InProgress - AnalyzingData\n",
      "InProgress - AnalyzingData\n",
      "InProgress - AnalyzingData\n",
      "InProgress - AnalyzingData\n",
      "InProgress - AnalyzingData\n",
      "InProgress - AnalyzingData\n",
      "InProgress - AnalyzingData\n",
      "InProgress - AnalyzingData\n",
      "InProgress - AnalyzingData\n",
      "InProgress - AnalyzingData\n",
      "InProgress - AnalyzingData\n",
      "InProgress - FeatureEngineering\n",
      "InProgress - FeatureEngineering\n",
      "InProgress - FeatureEngineering\n",
      "InProgress - FeatureEngineering\n",
      "InProgress - FeatureEngineering\n",
      "InProgress - FeatureEngineering\n",
      "InProgress - FeatureEngineering\n",
      "InProgress - FeatureEngineering\n",
      "InProgress - FeatureEngineering\n",
      "InProgress - FeatureEngineering\n",
      "InProgress - FeatureEngineering\n",
      "InProgress - FeatureEngineering\n",
      "InProgress - FeatureEngineering\n",
      "InProgress - FeatureEngineering\n",
      "InProgress - FeatureEngineering\n",
      "InProgress - FeatureEngineering\n",
      "InProgress - FeatureEngineering\n",
      "InProgress - FeatureEngineering\n",
      "InProgress - FeatureEngineering\n",
      "InProgress - FeatureEngineering\n",
      "InProgress - FeatureEngineering\n",
      "InProgress - ModelTuning\n",
      "InProgress - ModelTuning\n",
      "InProgress - ModelTuning\n",
      "InProgress - ModelTuning\n",
      "InProgress - ModelTuning\n",
      "InProgress - ModelTuning\n",
      "InProgress - ModelTuning\n",
      "InProgress - ModelTuning\n"
     ]
    }
   ],
   "source": [
    "print('JobStatus - Secondary Status')\n",
    "print('------------------------------')\n",
    "\n",
    "describe_response = sm.describe_auto_ml_job(AutoMLJobName=auto_ml_job_name)\n",
    "print(describe_response['AutoMLJobStatus'] + ' - ' + describe_response['AutoMLJobSecondaryStatus'])\n",
    "job_run_status = describe_response['AutoMLJobStatus']\n",
    "\n",
    "while job_run_status not in ('Failed', 'Completed', 'Stopped'):\n",
    "    describe_response = sm.describe_auto_ml_job(AutoMLJobName=auto_ml_job_name)\n",
    "    job_run_status = describe_response['AutoMLJobStatus']\n",
    "\n",
    "    print(\n",
    "        describe_response['AutoMLJobStatus'] + ' - ' + describe_response['AutoMLJobSecondaryStatus']\n",
    "    )\n",
    "    sleep(30)"
   ]
  },
  {
   "cell_type": "markdown",
   "metadata": {},
   "source": [
    "## Results\n",
    "Now use the describe_auto_ml_job API to look up the best candidate selected by the SageMaker Autopilot job."
   ]
  },
  {
   "cell_type": "code",
   "execution_count": null,
   "metadata": {},
   "outputs": [],
   "source": [
    "best_candidate = sm.describe_auto_ml_job(AutoMLJobName=auto_ml_job_name)['BestCandidate']\n",
    "best_candidate_name = best_candidate['CandidateName']\n",
    "print(best_candidate)\n",
    "print('\\n')\n",
    "print('CandidateName: ' + best_candidate_name)\n",
    "print('FinalAutoMLJobObjectiveMetricName: ' + best_candidate['FinalAutoMLJobObjectiveMetric']['MetricName'])\n",
    "print('FinalAutoMLJobObjectiveMetricValue: ' + str(best_candidate['FinalAutoMLJobObjectiveMetric']['Value']))"
   ]
  },
  {
   "cell_type": "markdown",
   "metadata": {},
   "source": [
    "## Perform batch inference using the best candidate\n",
    "Now that you have successfully completed the SageMaker Autopilot job on the dataset, create a model from any of the candidates by using Inference Pipelines."
   ]
  },
  {
   "cell_type": "code",
   "execution_count": null,
   "metadata": {},
   "outputs": [],
   "source": [
    "model_name = 'automl-form13-model-' + timestamp_suffix\n",
    "model = sm.create_model(Containers=best_candidate['InferenceContainers'], ModelName=model_name, ExecutionRoleArn=role)\n",
    "print('Model ARN corresponding to the best candidate is : {}'.format(model['ModelArn']))"
   ]
  },
  {
   "cell_type": "markdown",
   "metadata": {},
   "source": [
    "You can use batch inference by using Amazon SageMaker batch transform. The same model can also be deployed to perform online inference using Amazon SageMaker hosting.\n",
    "\n"
   ]
  },
  {
   "cell_type": "code",
   "execution_count": null,
   "metadata": {},
   "outputs": [],
   "source": [
    "transform_job_name = 'automl-form13-transform-' + timestamp_suffix\n",
    "\n",
    "transform_input = {\n",
    "    'DataSource': {'S3DataSource': {'S3DataType': 'S3Prefix', 'S3Uri': test_data_s3_path}},\n",
    "    'ContentType': 'text/csv',\n",
    "    'CompressionType': 'None',\n",
    "    'SplitType': 'Line',\n",
    "}\n",
    "\n",
    "transform_output = {\n",
    "    'S3OutputPath': 's3://{}/{}/inference-results'.format(bucket, prefix),\n",
    "}\n",
    "\n",
    "transform_resources = {'InstanceType': 'ml.m5.4xlarge', 'InstanceCount': 1}\n",
    "\n",
    "sm.create_transform_job(\n",
    "    TransformJobName=transform_job_name,\n",
    "    ModelName=model_name,\n",
    "    TransformInput=transform_input,\n",
    "    TransformOutput=transform_output,\n",
    "    TransformResources=transform_resources,\n",
    ")"
   ]
  },
  {
   "cell_type": "markdown",
   "metadata": {},
   "source": [
    "Watch the transform job for completion."
   ]
  },
  {
   "cell_type": "code",
   "execution_count": null,
   "metadata": {},
   "outputs": [],
   "source": [
    "print('JobStatus')\n",
    "print('----------')\n",
    "\n",
    "describe_response = sm.describe_transform_job(TransformJobName=transform_job_name)\n",
    "job_run_status = describe_response['TransformJobStatus']\n",
    "print(job_run_status)\n",
    "\n",
    "while job_run_status not in ('Failed', 'Completed', 'Stopped'):\n",
    "    describe_response = sm.describe_transform_job(TransformJobName=transform_job_name)\n",
    "    job_run_status = describe_response['TransformJobStatus']\n",
    "    print(job_run_status)\n",
    "    sleep(30)\n"
   ]
  },
  {
   "cell_type": "markdown",
   "metadata": {},
   "source": [
    "Now let’s view the results of the transform job:"
   ]
  },
  {
   "cell_type": "code",
   "execution_count": null,
   "metadata": {},
   "outputs": [],
   "source": [
    "s3_output_key = '{}/inference-results/test_data.csv.out'.format(prefix)\n",
    "local_inference_results_path = 'inference_results.csv'\n",
    "\n",
    "s3 = boto3.resource('s3')\n",
    "inference_results_bucket = s3.Bucket(session.default_bucket())\n",
    "\n",
    "inference_results_bucket.download_file(s3_output_key, local_inference_results_path)\n",
    "\n",
    "data = pd.read_csv(local_inference_results_path, sep=';')\n",
    "pd.set_option('display.max_rows', 10)  # Keep the output on one page\n",
    "data"
   ]
  },
  {
   "cell_type": "markdown",
   "metadata": {},
   "source": [
    "## View other candidates explored by SageMaker Autopilot\n",
    "You can view all the candidates (pipeline evaluations with different hyperparameter combinations) that were explored by SageMaker Autopilot and sort them by their final performance metric."
   ]
  },
  {
   "cell_type": "code",
   "execution_count": null,
   "metadata": {},
   "outputs": [],
   "source": [
    "candidates = sm.list_candidates_for_auto_ml_job(AutoMLJobName=auto_ml_job_name, SortBy='FinalObjectiveMetricValue')['Candidates']\n",
    "index = 1\n",
    "for candidate in candidates:\n",
    "    print(\n",
    "        str(index)\n",
    "        + '  '\n",
    "        + candidate['CandidateName']\n",
    "        + '  '\n",
    "        + str(candidate['FinalAutoMLJobObjectiveMetric']['Value'])\n",
    "    )\n",
    "    index += 1\n"
   ]
  },
  {
   "cell_type": "markdown",
   "metadata": {},
   "source": [
    "## Candidate Generation Notebook\n",
    "Sagemaker AutoPilot also auto-generates a Candidate Definitions notebook. This notebook can be used to interactively step through the various steps taken by the Sagemaker Autopilot to arrive at the best candidate. This notebook can also be used to override various runtime parameters like parallelism, hardware used, algorithms explored, feature extraction scripts and more.\n",
    "\n",
    "The notebook can be downloaded from the following Amazon S3 location:\n"
   ]
  },
  {
   "cell_type": "code",
   "execution_count": null,
   "metadata": {},
   "outputs": [],
   "source": [
    "sm.describe_auto_ml_job(AutoMLJobName=auto_ml_job_name)['AutoMLJobArtifacts']['CandidateDefinitionNotebookLocation']"
   ]
  },
  {
   "cell_type": "markdown",
   "metadata": {},
   "source": [
    "## Data Exploration Notebook\n",
    "Sagemaker Autopilot also auto-generates a Data Exploration notebook, which can be downloaded from the following Amazon S3 location:\n"
   ]
  },
  {
   "cell_type": "code",
   "execution_count": null,
   "metadata": {},
   "outputs": [],
   "source": [
    "sm.describe_auto_ml_job(AutoMLJobName=auto_ml_job_name)['AutoMLJobArtifacts']['DataExplorationNotebookLocation']"
   ]
  },
  {
   "cell_type": "markdown",
   "metadata": {},
   "source": [
    "## Cleanup\n",
    "The Autopilot job creates many underlying artifacts such as dataset splits, preprocessing scripts, or preprocessed data, etc. This code, when un-commented, deletes them. This operation deletes all the generated models and the auto-generated notebooks as well."
   ]
  },
  {
   "cell_type": "code",
   "execution_count": null,
   "metadata": {},
   "outputs": [],
   "source": [
    "s3 = boto3.resource('s3')\n",
    "bucket = s3.Bucket(bucket)\n",
    "\n",
    "job_outputs_prefix = '{}/output/{}'.format(prefix, auto_ml_job_name)\n",
    "bucket.objects.filter(Prefix=job_outputs_prefix).delete()"
   ]
  }
 ],
 "metadata": {
  "colab": {
   "name": "embedding.ipynb",
   "provenance": [],
   "toc_visible": true
  },
  "instance_type": "ml.t3.medium",
  "kernelspec": {
   "display_name": "Python 3 (Data Science)",
   "language": "python",
   "name": "python3__SAGEMAKER_INTERNAL__arn:aws:sagemaker:us-east-1:081325390199:image/datascience-1.0"
  },
  "language_info": {
   "codemirror_mode": {
    "name": "ipython",
    "version": 3
   },
   "file_extension": ".py",
   "mimetype": "text/x-python",
   "name": "python",
   "nbconvert_exporter": "python",
   "pygments_lexer": "ipython3",
   "version": "3.7.10"
  },
  "vscode": {
   "interpreter": {
    "hash": "aee8b7b246df8f9039afb4144a1f6fd8d2ca17a180786b69acc140d282b71a49"
   }
  }
 },
 "nbformat": 4,
 "nbformat_minor": 4
}
