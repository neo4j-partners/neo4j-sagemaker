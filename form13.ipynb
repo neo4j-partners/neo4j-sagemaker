{
  "cells": [
    {
      "cell_type": "markdown",
      "metadata": {},
      "source": [
        "Click this button to open the notebook in SageMaker Studio Lab. [![Open In SageMaker Studio Lab](https://studiolab.sagemaker.aws/studiolab.svg)](https://studiolab.sagemaker.aws/import/github/neo4j-partners/hands-on-lab-neo4j-and-sagemaker/blob/main/Lab%205%20-%20Graph%20Data%20Science/embedding.ipynb)"
      ]
    },
    {
      "cell_type": "markdown",
      "metadata": {
        "id": "JtcD7PrPzSqE"
      },
      "source": [
        "# Install Prerequisites\n",
        "First off, you'll also need to install a few packages."
      ]
    },
    {
      "cell_type": "code",
      "execution_count": null,
      "metadata": {
        "id": "qwKogqD_He_e",
        "vscode": {
          "languageId": "python"
        }
      },
      "outputs": [],
      "source": [
        "%pip install --quiet --upgrade neo4j\n",
        "%pip install pandas"
      ]
    },
    {
      "cell_type": "markdown",
      "metadata": {
        "id": "IdMFRbqGzSqF"
      },
      "source": [
        "# Working with Neo4j\n",
        "You'll need to enter the credentials from your Neo4j instance below.\n",
        "\n",
        "The default DB_NAME is always neo4j."
      ]
    },
    {
      "cell_type": "code",
      "execution_count": null,
      "metadata": {
        "id": "P41l_P4zzSqF",
        "vscode": {
          "languageId": "python"
        }
      },
      "outputs": [],
      "source": [
        "# Edit this variable!\n",
        "DB_URL = 'neo4j://35.237.130.165:7687'\n",
        "\n",
        "# You can leave these defaults\n",
        "DB_USER = 'neo4j'\n",
        "DB_PASS = 'foo123'\n",
        "DB_NAME = 'neo4j'"
      ]
    },
    {
      "cell_type": "code",
      "execution_count": null,
      "metadata": {
        "id": "8lUkSvmozSqF",
        "vscode": {
          "languageId": "python"
        }
      },
      "outputs": [],
      "source": [
        "import pandas as pd\n",
        "from neo4j import GraphDatabase\n",
        "\n",
        "driver = GraphDatabase.driver(DB_URL, auth=(DB_USER, DB_PASS))"
      ]
    },
    {
      "cell_type": "markdown",
      "metadata": {
        "id": "ZtJy4eO_zSqF"
      },
      "source": [
        "First we're going to create an in memory graph represtation of the data in Neo4j Graph Data Science (GDS)."
      ]
    },
    {
      "cell_type": "code",
      "execution_count": null,
      "metadata": {
        "id": "URRShWv0zSqG",
        "vscode": {
          "languageId": "python"
        }
      },
      "outputs": [],
      "source": [
        "with driver.session(database=DB_NAME) as session:\n",
        "  result = session.read_transaction(\n",
        "    lambda tx: tx.run(\n",
        "      \"\"\"\n",
        "CALL gds.graph.create(\n",
        "    'mygraph',\n",
        "    ['Company', 'Manager', 'Holding'],\n",
        "    {\n",
        "        OWNS: {orientation: 'UNDIRECTED'},\n",
        "        PARTOF: {orientation: 'UNDIRECTED'}\n",
        "    }\n",
        ")\n",
        "YIELD\n",
        "    graphName AS graph,\n",
        "    relationshipProjection AS readProjection,\n",
        "    nodeCount AS nodes,\n",
        "    relationshipCount AS rels\n",
        "      \"\"\"\n",
        "    ).data()\n",
        "  )\n",
        "df = pd.DataFrame(result)\n",
        "display(df)"
      ]
    },
    {
      "cell_type": "markdown",
      "metadata": {
        "id": "hFwZUeZY0jd7"
      },
      "source": [
        "Note, if you get an error saying the graph already exists, that's probably because you ran this code before. You can destroy it using this command:"
      ]
    },
    {
      "cell_type": "code",
      "execution_count": null,
      "metadata": {
        "id": "_bxCuwC_0gWZ",
        "vscode": {
          "languageId": "python"
        }
      },
      "outputs": [],
      "source": [
        "with driver.session(database=DB_NAME) as session:\n",
        "  result = session.read_transaction(\n",
        "    lambda tx: tx.run(\n",
        "      \"\"\"\n",
        "      CALL gds.graph.drop('mygraph')\n",
        "      \"\"\"\n",
        "    ).data()\n",
        "  )"
      ]
    },
    {
      "cell_type": "markdown",
      "metadata": {
        "id": "ZnnO932bBexn"
      },
      "source": [
        "Now, let's list the details of the graph to make sure the projection was created as we want."
      ]
    },
    {
      "cell_type": "code",
      "execution_count": null,
      "metadata": {
        "id": "7ZBPLijbrSCt",
        "vscode": {
          "languageId": "python"
        }
      },
      "outputs": [],
      "source": [
        "with driver.session(database=DB_NAME) as session:\n",
        "  result = session.read_transaction(\n",
        "    lambda tx: tx.run(\n",
        "      \"\"\"\n",
        "      CALL gds.graph.list()\n",
        "      \"\"\"\n",
        "    ).data()\n",
        "  )\n",
        "  print(result)"
      ]
    },
    {
      "cell_type": "markdown",
      "metadata": {
        "id": "4pFaTeUSzSqG"
      },
      "source": [
        "Now we can generate an embedding from that graph. This is a new feature we can use in our predictions. We're using FastRP, which is a more full featured and higher performance of Node2Vec. You can learn more about that [here](https://neo4j.com/docs/graph-data-science/current/algorithms/fastrp/)."
      ]
    },
    {
      "cell_type": "code",
      "execution_count": null,
      "metadata": {
        "id": "VVxhVtTq4Kfc",
        "vscode": {
          "languageId": "python"
        }
      },
      "outputs": [],
      "source": [
        "with driver.session(database=DB_NAME) as session:\n",
        "  result = session.read_transaction(\n",
        "    lambda tx: tx.run(\n",
        "      \"\"\"\n",
        "        CALL gds.fastRP.mutate('mygraph',{\n",
        "        embeddingDimension: 16,\n",
        "        randomSeed: 1,\n",
        "        mutateProperty:'embedding'\n",
        "        })\n",
        "      \"\"\"\n",
        "    ).data()\n",
        "  )\n",
        "df = pd.DataFrame(result)\n",
        "display(df)"
      ]
    },
    {
      "cell_type": "markdown",
      "metadata": {
        "id": "_GR9GCbFitFy"
      },
      "source": [
        "That creates an embedding for each node type.  However, we only want the embedding on the nodes of type holding.\n",
        "\n",
        "We're going to take the embedding from our projection and write it to the holding nodes in the underlying database."
      ]
    },
    {
      "cell_type": "code",
      "execution_count": null,
      "metadata": {
        "id": "C-EKqaR-inUe",
        "vscode": {
          "languageId": "python"
        }
      },
      "outputs": [],
      "source": [
        "with driver.session(database=DB_NAME) as session:\n",
        "  result = session.run(\n",
        "    \"\"\"\n",
        "      CALL gds.graph.writeNodeProperties('mygraph', ['embedding'], ['Holding'])\n",
        "      YIELD writeMillis\n",
        "    \"\"\"\n",
        "  )\n",
        "  print(result)"
      ]
    },
    {
      "cell_type": "code",
      "execution_count": null,
      "metadata": {
        "id": "RLTjaLlMzSqH",
        "vscode": {
          "languageId": "python"
        }
      },
      "outputs": [],
      "source": [
        "with driver.session(database=DB_NAME) as session:\n",
        "  result = session.read_transaction(\n",
        "    lambda tx: tx.run(\n",
        "      \"\"\"\n",
        "        MATCH (n:Holding) RETURN n\n",
        "      \"\"\"\n",
        "    ).data()\n",
        "  )"
      ]
    },
    {
      "cell_type": "markdown",
      "metadata": {
        "id": "IGeVDYfrCEZx"
      },
      "source": [
        "Note that this query will take 2-3 minutes to run as it's grabbing nearly half a million nodes along with all their properties and our new embedding."
      ]
    },
    {
      "cell_type": "code",
      "execution_count": null,
      "metadata": {
        "id": "WUpaQ69smfJ9",
        "vscode": {
          "languageId": "python"
        }
      },
      "outputs": [],
      "source": [
        "df = pd.DataFrame([dict(record.get('n')) for record in result])\n",
        "df"
      ]
    },
    {
      "cell_type": "markdown",
      "metadata": {
        "id": "ND0BKcgNDPgH"
      },
      "source": [
        "Note that the embedding row is an array. To make this dataset more consumable, we should flatten that out into multiple individual features: embedding_0, embedding_1, ... embedding_n.\n"
      ]
    },
    {
      "cell_type": "code",
      "execution_count": null,
      "metadata": {
        "id": "W11q18eTC6-N",
        "vscode": {
          "languageId": "python"
        }
      },
      "outputs": [],
      "source": [
        "embeddings = pd.DataFrame(df['embedding'].values.tolist()).add_prefix(\"embedding_\")\n",
        "merged = df.drop(columns=['embedding']).merge(embeddings, left_index=True, right_index=True)\n",
        "merged"
      ]
    },
    {
      "cell_type": "markdown",
      "metadata": {
        "id": "_ooXlcpRbFd0"
      },
      "source": [
        "Now that we have the data formatted properly, let's split it into a training and a testing set and write those to disk."
      ]
    },
    {
      "cell_type": "code",
      "execution_count": null,
      "metadata": {
        "id": "UdPgEiDdDu-B",
        "vscode": {
          "languageId": "python"
        }
      },
      "outputs": [],
      "source": [
        "df = merged\n",
        "\n",
        "df['split']=df['reportCalendarOrQuarter']\n",
        "df['split']=df['split'].replace(['03-31-2021', '06-30-2021', '09-30-2021'], ['TRAIN', 'VALIDATE', 'TEST'])\n",
        "\n",
        "df = df.drop(columns=['reportCalendarOrQuarter'])\n",
        "\n",
        "df.to_csv('embedding.csv', index=False)"
      ]
    },
    {
      "cell_type": "markdown",
      "metadata": {
        "id": "Azb1inEVAC7f"
      },
      "source": [
        "# Upload to Amazom S3\n",
        "Now let's create a bucket and upload our data set to it.  Then we'll be able to access the data in SageMaker in the next lab."
      ]
    },
    {
      "cell_type": "code",
      "execution_count": null,
      "metadata": {
        "id": "mRKBGEi3AC7f",
        "vscode": {
          "languageId": "python"
        }
      },
      "outputs": [],
      "source": [
        "filename='embedding.csv'\n",
        "\n",
        "#to do"
      ]
    }
  ],
  "metadata": {
    "colab": {
      "name": "embedding.ipynb",
      "provenance": [],
      "toc_visible": true
    },
    "kernelspec": {
      "display_name": "Python 3",
      "name": "python3"
    }
  },
  "nbformat": 4,
  "nbformat_minor": 0
}
